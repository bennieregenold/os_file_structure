{
 "cells": [
  {
   "cell_type": "markdown",
   "metadata": {},
   "source": [
    "# Heart Rate Data"
   ]
  },
  {
   "cell_type": "code",
   "execution_count": 12,
   "metadata": {},
   "outputs": [
    {
     "data": {
      "text/plain": [
       "29263"
      ]
     },
     "execution_count": 12,
     "metadata": {},
     "output_type": "execute_result"
    }
   ],
   "source": [
    "import pandas as pd\n",
    "import glob\n",
    "import json\n",
    "from collections.abc import MutableMapping\n",
    "\n",
    "# Enter path and file information\n",
    "path = r'C:\\Users\\benni\\Downloads\\BennieRegenold\\user-site-export'\n",
    "file_pattern = 'heart_rate-2018-05*.json'\n",
    "\n",
    "# Loop through files and add them to an output list\n",
    "num_files = 3\n",
    "cnt = 1\n",
    "\n",
    "data=[]\n",
    "\n",
    "for filename in glob.iglob(path+'\\\\'+file_pattern):\n",
    "    if cnt > num_files:\n",
    "        break\n",
    "    else:\n",
    "        with open(filename, 'r') as read_file:\n",
    "            data.extend(json.load(read_file))\n",
    "        cnt += 1\n",
    "    \n",
    "    \n",
    "len(data)"
   ]
  },
  {
   "cell_type": "code",
   "execution_count": 13,
   "metadata": {},
   "outputs": [
    {
     "data": {
      "text/plain": [
       "[{'dateTime': '05/01/18 05:00:01', 'value_bpm': 57, 'value_confidence': 3},\n",
       " {'dateTime': '05/01/18 05:00:06', 'value_bpm': 59, 'value_confidence': 3},\n",
       " {'dateTime': '05/01/18 05:00:16', 'value_bpm': 58, 'value_confidence': 3},\n",
       " {'dateTime': '05/01/18 05:00:21', 'value_bpm': 55, 'value_confidence': 3},\n",
       " {'dateTime': '05/01/18 05:00:26', 'value_bpm': 56, 'value_confidence': 3}]"
      ]
     },
     "execution_count": 13,
     "metadata": {},
     "output_type": "execute_result"
    }
   ],
   "source": [
    "# Function to flatten an import dictionary of dictionaries\n",
    "    # https://www.geeksforgeeks.org/python-convert-nested-dictionary-into-flattened-dictionary/\n",
    "def convert_flatten(d, parent_key ='', sep ='_'): \n",
    "    items = [] \n",
    "    for k, v in d.items(): \n",
    "        new_key = parent_key + sep + k if parent_key else k \n",
    "  \n",
    "        if isinstance(v, MutableMapping): \n",
    "            items.extend(convert_flatten(v, new_key, sep = sep).items()) \n",
    "        else: \n",
    "            items.append((new_key, v)) \n",
    "    return dict(items)\n",
    "\n",
    "# Apply flatten function to json input\n",
    "data_flat = [convert_flatten(data[i]) for i in range(0,len(data))]\n",
    "\n",
    "data_flat[:5]\n"
   ]
  },
  {
   "cell_type": "code",
   "execution_count": 14,
   "metadata": {},
   "outputs": [
    {
     "data": {
      "text/html": [
       "<div>\n",
       "<style scoped>\n",
       "    .dataframe tbody tr th:only-of-type {\n",
       "        vertical-align: middle;\n",
       "    }\n",
       "\n",
       "    .dataframe tbody tr th {\n",
       "        vertical-align: top;\n",
       "    }\n",
       "\n",
       "    .dataframe thead th {\n",
       "        text-align: right;\n",
       "    }\n",
       "</style>\n",
       "<table border=\"1\" class=\"dataframe\">\n",
       "  <thead>\n",
       "    <tr style=\"text-align: right;\">\n",
       "      <th></th>\n",
       "      <th>value_bpm</th>\n",
       "    </tr>\n",
       "    <tr>\n",
       "      <th>dateTime</th>\n",
       "      <th></th>\n",
       "    </tr>\n",
       "  </thead>\n",
       "  <tbody>\n",
       "    <tr>\n",
       "      <th>2018-05-01 05:00:01</th>\n",
       "      <td>57</td>\n",
       "    </tr>\n",
       "    <tr>\n",
       "      <th>2018-05-01 05:00:06</th>\n",
       "      <td>59</td>\n",
       "    </tr>\n",
       "    <tr>\n",
       "      <th>2018-05-01 05:00:16</th>\n",
       "      <td>58</td>\n",
       "    </tr>\n",
       "    <tr>\n",
       "      <th>2018-05-01 05:00:21</th>\n",
       "      <td>55</td>\n",
       "    </tr>\n",
       "    <tr>\n",
       "      <th>2018-05-01 05:00:26</th>\n",
       "      <td>56</td>\n",
       "    </tr>\n",
       "  </tbody>\n",
       "</table>\n",
       "</div>"
      ],
      "text/plain": [
       "                     value_bpm\n",
       "dateTime                      \n",
       "2018-05-01 05:00:01         57\n",
       "2018-05-01 05:00:06         59\n",
       "2018-05-01 05:00:16         58\n",
       "2018-05-01 05:00:21         55\n",
       "2018-05-01 05:00:26         56"
      ]
     },
     "execution_count": 14,
     "metadata": {},
     "output_type": "execute_result"
    }
   ],
   "source": [
    "# Put data into a dataFrame\n",
    "df = pd.DataFrame(data_flat)\n",
    "\n",
    "# Make dateTime the index\n",
    "df.set_index(pd.to_datetime(df['dateTime']),inplace=True)\n",
    "\n",
    "#Remove unnecssary columns\n",
    "df.drop(['dateTime','value_confidence'],axis=1, inplace=True)\n",
    "\n",
    "df.head()"
   ]
  },
  {
   "cell_type": "code",
   "execution_count": 15,
   "metadata": {},
   "outputs": [
    {
     "data": {
      "text/plain": [
       "[<matplotlib.lines.Line2D at 0xfed87d8>]"
      ]
     },
     "execution_count": 15,
     "metadata": {},
     "output_type": "execute_result"
    },
    {
     "data": {
      "image/png": "[encoded data removed]",
      "text/plain": [
       "<Figure size 432x288 with 1 Axes>"
      ]
     },
     "metadata": {
      "needs_background": "light"
     },
     "output_type": "display_data"
    }
   ],
   "source": [
    "# Plot the rolling average data\n",
    "import matplotlib.pyplot as plt\n",
    "%matplotlib inline\n",
    "\n",
    "# Measurements taken ~4x/sec or ~240x/min\n",
    "win=240\n",
    "\n",
    "plt.plot(df.rolling(window=win).mean())"
   ]
  },
  {
   "cell_type": "code",
   "execution_count": null,
   "metadata": {},
   "outputs": [],
   "source": []
  }
 ],
 "metadata": {
  "kernelspec": {
   "display_name": "Python 3",
   "language": "python",
   "name": "python3"
  },
  "language_info": {
   "codemirror_mode": {
    "name": "ipython",
    "version": 3
   },
   "file_extension": ".py",
   "mimetype": "text/x-python",
   "name": "python",
   "nbconvert_exporter": "python",
   "pygments_lexer": "ipython3",
   "version": "3.8.0"
  }
 },
 "nbformat": 4,
 "nbformat_minor": 4
}
