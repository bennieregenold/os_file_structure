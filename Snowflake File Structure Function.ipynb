{
 "cells": [
  {
   "cell_type": "markdown",
   "metadata": {},
   "source": [
    "# Function to create Snowflake directory structure\n",
    "    # Sample from Snowflake on organizing data: United_States/California/San_Francisco/2016/08/03/17/"
   ]
  },
  {
   "cell_type": "markdown",
   "metadata": {},
   "source": [
    "## First, get the list of files that should be processed"
   ]
  },
  {
   "cell_type": "code",
   "execution_count": 6,
   "metadata": {},
   "outputs": [],
   "source": [
    "import os\n",
    "import glob\n",
    "import re\n",
    "import token_functions as tf\n",
    "\n",
    "'''\n",
    "When this is implemented, all these variables should be stored \n",
    "in a database table to allow for controlled variable manipulation\n",
    "'''\n",
    "\n",
    "# Provide the base path to where all files exist currently\n",
    "source_directory = r'C:\\Users\\benni\\Documents\\BennieRegenold\\user-site-export' # Laptop\n",
    "#source_directory = r'E:\\Documents\\BennieRegenold\\user-site-export' #Desktop\n",
    "\n",
    "# Set the destination root for the files\n",
    "destination_directory = r'C:\\Users\\benni\\Documents\\BennieRegenold\\heart_rate'\n",
    "\n",
    "# Provide the tokenized file format\n",
    "file_format = 'heart_rate-{1:4}-{2:2}-{3:2}.json'\n",
    "\n",
    "# Provide the regex format of the token\n",
    "token_format = '{[0-9]:[0-9]}'\n",
    "\n",
    "# Replace the tokens with wildcards to match the file\n",
    "file_format_match = re.sub(token_format, '*', file_format)\n",
    "\n",
    "# Move to source directory\n",
    "os.chdir(source_directory)\n",
    "\n",
    "# Get all files names that match the file format\n",
    "files_to_process = glob.glob(file_format_match)"
   ]
  },
  {
   "cell_type": "code",
   "execution_count": 11,
   "metadata": {},
   "outputs": [
    {
     "data": {
      "text/plain": [
       "<module 'token_functions' from 'C:\\\\Users\\\\benni\\\\OneDrive\\\\Documents\\\\Jupyter Notebooks\\\\Snowflake Notes and Samples\\\\token_functions.py'>"
      ]
     },
     "execution_count": 11,
     "metadata": {},
     "output_type": "execute_result"
    }
   ],
   "source": [
    "# TESTING ONLY: Reload the function file in case changes were made\n",
    "import importlib\n",
    "importlib.reload(tf)"
   ]
  },
  {
   "cell_type": "code",
   "execution_count": 12,
   "metadata": {},
   "outputs": [],
   "source": [
    "# Parse the token format to get string slicing dictionary\n",
    "token_info = tf.parse_token(file_format, token_format)"
   ]
  },
  {
   "cell_type": "code",
   "execution_count": 13,
   "metadata": {},
   "outputs": [],
   "source": [
    "# Move the files to their output directory\n",
    "for file in files_to_process:\n",
    "    tf.move_tokenized_file(source_directory, destination_directory, file, token_info)"
   ]
  },
  {
   "cell_type": "markdown",
   "metadata": {},
   "source": [
    "## Testing only: reverse the file move and put all files back"
   ]
  },
  {
   "cell_type": "code",
   "execution_count": 16,
   "metadata": {},
   "outputs": [],
   "source": [
    "source_root = r'C:\\Users\\benni\\Documents\\BennieRegenold\\heart_rate'\n",
    "destination_dir = r'C:\\Users\\benni\\Documents\\BennieRegenold\\user-site-export'\n",
    "\n",
    "files_to_move = []\n",
    "\n",
    "for path, dirs, files in os.walk(source_root):\n",
    "    # Anywhere the file name is empty, skip that record\n",
    "    if not files:\n",
    "        pass\n",
    "    else:\n",
    "        for i in range(len(files)):\n",
    "            # Get the filename and path for all files\n",
    "            filename = files[i]\n",
    "            source_path = ''.join(path) # joins all elements of list into single string\n",
    "            \n",
    "            # Append file to list\n",
    "            files_to_move.append(os.path.join(source_path, filename))\n",
    "            \n",
    "            \n",
    "# Move the files to the destination root\n",
    "for file in files_to_move:\n",
    "    dest_filename = os.path.basename(file)\n",
    "    dest_path = os.path.join(destination_dir, dest_filename)\n",
    "    os.rename(file, dest_path)"
   ]
  },
  {
   "cell_type": "code",
   "execution_count": null,
   "metadata": {},
   "outputs": [],
   "source": []
  }
 ],
 "metadata": {
  "kernelspec": {
   "display_name": "Python 3",
   "language": "python",
   "name": "python3"
  },
  "language_info": {
   "codemirror_mode": {
    "name": "ipython",
    "version": 3
   },
   "file_extension": ".py",
   "mimetype": "text/x-python",
   "name": "python",
   "nbconvert_exporter": "python",
   "pygments_lexer": "ipython3",
   "version": "3.8.3rc1"
  }
 },
 "nbformat": 4,
 "nbformat_minor": 4
}
