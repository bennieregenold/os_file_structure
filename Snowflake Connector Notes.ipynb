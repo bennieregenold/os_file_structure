{
 "cells": [
  {
   "cell_type": "markdown",
   "metadata": {},
   "source": [
    "# Get Credentials From Config File"
   ]
  },
  {
   "cell_type": "code",
   "execution_count": 30,
   "metadata": {},
   "outputs": [],
   "source": [
    "# Get the credentials used in the same config file that snowsql uses\n",
    "import configparser\n",
    "\n",
    "# define variables\n",
    "config_file = r'C:\\Users\\benni\\.snowsql\\config'\n",
    "connection_name = 'connections' # this is the default connection\n",
    "\n",
    "# Instantiate the parser into the config variabel\n",
    "config = configparser.ConfigParser()\n",
    "\n",
    "# Read the file and assign variables\n",
    "config.read(config_file)\n",
    "\n",
    "snowflake_acct = config['connections']['accountname']\n",
    "snowflake_user = config['connections']['username']\n",
    "snowflake_pw = config['connections']['password']\n",
    "\n"
   ]
  },
  {
   "cell_type": "markdown",
   "metadata": {},
   "source": [
    "# Connect to Snowflake"
   ]
  },
  {
   "cell_type": "code",
   "execution_count": 31,
   "metadata": {},
   "outputs": [],
   "source": [
    "import snowflake.connector\n",
    "\n",
    "# Define connection with optional session parameters for example\n",
    "conn = snowflake.connector.connect(\n",
    "    user= snowflake_user,\n",
    "    password= snowflake_pw.replace('\"',''), # Remove double quotes\n",
    "    account= snowflake_acct,\n",
    "    database = 'FITBIT',\n",
    "    schema = 'PUBLIC',\n",
    "    session_parameters={\n",
    "        'QUERY_TAG': 'PythonConnectorTest',\n",
    "    }\n",
    ")\n"
   ]
  },
  {
   "cell_type": "markdown",
   "metadata": {},
   "source": [
    "# Perform Sample Queries"
   ]
  },
  {
   "cell_type": "code",
   "execution_count": 45,
   "metadata": {},
   "outputs": [
    {
     "data": {
      "text/html": [
       "<div>\n",
       "<style scoped>\n",
       "    .dataframe tbody tr th:only-of-type {\n",
       "        vertical-align: middle;\n",
       "    }\n",
       "\n",
       "    .dataframe tbody tr th {\n",
       "        vertical-align: top;\n",
       "    }\n",
       "\n",
       "    .dataframe thead th {\n",
       "        text-align: right;\n",
       "    }\n",
       "</style>\n",
       "<table border=\"1\" class=\"dataframe\">\n",
       "  <thead>\n",
       "    <tr style=\"text-align: right;\">\n",
       "      <th></th>\n",
       "      <th>MEASUREMENT_TIMESTAMP</th>\n",
       "      <th>BPM</th>\n",
       "      <th>CONFIDENCE</th>\n",
       "    </tr>\n",
       "  </thead>\n",
       "  <tbody>\n",
       "    <tr>\n",
       "      <th>0</th>\n",
       "      <td>0016-09-22 05:00:03</td>\n",
       "      <td>57</td>\n",
       "      <td>3</td>\n",
       "    </tr>\n",
       "    <tr>\n",
       "      <th>1</th>\n",
       "      <td>0016-09-22 05:00:08</td>\n",
       "      <td>56</td>\n",
       "      <td>3</td>\n",
       "    </tr>\n",
       "    <tr>\n",
       "      <th>2</th>\n",
       "      <td>0016-09-22 05:00:23</td>\n",
       "      <td>56</td>\n",
       "      <td>3</td>\n",
       "    </tr>\n",
       "    <tr>\n",
       "      <th>3</th>\n",
       "      <td>0016-09-22 05:00:28</td>\n",
       "      <td>57</td>\n",
       "      <td>3</td>\n",
       "    </tr>\n",
       "    <tr>\n",
       "      <th>4</th>\n",
       "      <td>0016-09-22 05:00:33</td>\n",
       "      <td>58</td>\n",
       "      <td>3</td>\n",
       "    </tr>\n",
       "  </tbody>\n",
       "</table>\n",
       "</div>"
      ],
      "text/plain": [
       "  MEASUREMENT_TIMESTAMP  BPM  CONFIDENCE\n",
       "0   0016-09-22 05:00:03   57           3\n",
       "1   0016-09-22 05:00:08   56           3\n",
       "2   0016-09-22 05:00:23   56           3\n",
       "3   0016-09-22 05:00:28   57           3\n",
       "4   0016-09-22 05:00:33   58           3"
      ]
     },
     "execution_count": 45,
     "metadata": {},
     "output_type": "execute_result"
    }
   ],
   "source": [
    "import pandas as pd\n",
    "\n",
    "# Create the connection cursor which is needed for all statements\n",
    "cur = conn.cursor()\n",
    "\n",
    "# Write SQL statement to variable\n",
    "sql = \"SELECT TOP 100 * FROM HEART_RATE_FLAT\"\n",
    "\n",
    "# Execute the SQL statement\n",
    "cur.execute(sql)\n",
    "\n",
    "# Fetch results into pandas dataframe\n",
    "data = pd.DataFrame(cur.fetchall(), \n",
    "                    columns=[cur.description[i][0] for i in range(0,len(cur.description))])\n",
    "\n",
    "data.head()"
   ]
  },
  {
   "cell_type": "markdown",
   "metadata": {},
   "source": [
    "# Close the Connection"
   ]
  },
  {
   "cell_type": "code",
   "execution_count": 47,
   "metadata": {},
   "outputs": [],
   "source": [
    "conn.close()"
   ]
  }
 ],
 "metadata": {
  "kernelspec": {
   "display_name": "Python 3",
   "language": "python",
   "name": "python3"
  },
  "language_info": {
   "codemirror_mode": {
    "name": "ipython",
    "version": 3
   },
   "file_extension": ".py",
   "mimetype": "text/x-python",
   "name": "python",
   "nbconvert_exporter": "python",
   "pygments_lexer": "ipython3",
   "version": "3.8.0"
  }
 },
 "nbformat": 4,
 "nbformat_minor": 4
}
